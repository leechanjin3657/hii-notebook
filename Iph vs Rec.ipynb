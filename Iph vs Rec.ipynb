{
 "cells": [
  {
   "cell_type": "code",
   "execution_count": 1,
   "id": "318e1f49-5660-4d06-815d-a5a9869eba2d",
   "metadata": {},
   "outputs": [],
   "source": [
    "import pyathena as pa\n",
    "import numpy as np\n",
    "import matplotlib.pyplot as plt\n",
    "from for_hii import hii\n",
    "from pathlib import Path\n",
    "import yt\n",
    "import sys\n",
    "sys.path.insert(0,'/home/cjlee/practice/athena/vis/python')\n",
    "import athena_read\n",
    "from astropy.io import ascii\n",
    "import matplotlib as mpl\n",
    "from astropy import units as au\n",
    "from astropy.table import QTable\n",
    "from astropy import constants as const\n",
    "from add_fields_hii import add_fields\n",
    "import yt.units as yu\n",
    "from mpl_toolkits.axes_grid1 import AxesGrid\n",
    "from pyathena.io.timing_reader import TimingReader\n",
    "import pickle\n",
    "mpl.rcParams['font.size'] = 16\n",
    "#mpl.rcParams['figure.figsize'] = (8, 6)\n",
    "#mpl.rcParams['xtick.top'] = True\n",
    "#mpl.rcParams['ytick.right'] = True\n",
    "yt.set_log_level(50)"
   ]
  },
  {
   "cell_type": "code",
   "execution_count": 2,
   "id": "abf0cd24-1497-42d6-857f-828c5fbdcb9b",
   "metadata": {},
   "outputs": [
    {
     "data": {
      "text/plain": [
       "PosixPath('/data/cjlee/hii/various_nH0_Qi/hii_Q49.0n2.0_nx_256_fdt_0.50_test3')"
      ]
     },
     "execution_count": 2,
     "metadata": {},
     "output_type": "execute_result"
    }
   ],
   "source": [
    "path_='/data/cjlee/hii/various_nH0_Qi'\n",
    "datapath=Path(path_)\n",
    "pathlist=list(datapath.glob('*hii*'))\n",
    "path=pathlist[24]\n",
    "path"
   ]
  },
  {
   "cell_type": "code",
   "execution_count": 3,
   "id": "44121c11-8ed6-4ab0-a8b8-39b9afb3a429",
   "metadata": {},
   "outputs": [],
   "source": [
    "s=pa.LoadSim(str(path))\n",
    "h=pa.read_hst(s.files['hst'])"
   ]
  },
  {
   "cell_type": "code",
   "execution_count": 4,
   "id": "b29bc3f9-d3ff-4608-ba6a-a662c0e40bc4",
   "metadata": {},
   "outputs": [],
   "source": [
    "def get_data(s, num):\n",
    "    # num = s.nums[100]\n",
    "    d = s.load_hdf5(num,load_method='yt')\n",
    "    add_fields(d,s)\n",
    "    dd=d.all_data()\n",
    "    u = s.u\n",
    "    dvol = s.domain['dx'].prod()\n",
    "    N=s.par['mesh']['nx1']**3\n",
    "    dN=int(N/128**3)\n",
    "    ind=range(0,N,dN)\n",
    "    # Derived fields\n",
    "    dd['radius'] = np.sqrt(dd['x']**2 + dd['y']**2 + dd['z']**2)\n",
    "    # dd['rho_neu'] = dd['rho']*dd['r0']\n",
    "    # dd['rho_ion'] = dd['rho']*(1 - dd['r0'])\n",
    "    \n",
    "    # Sort cells in ascending order\n",
    "    idx_ion = dd['r0'] < 0.5\n",
    "    idx = np.argsort(dd['radius'].flatten())\n",
    "    \n",
    "    rr = dict()\n",
    "    rr['r'] = (dd['radius'].flatten()[idx])[ind]\n",
    "    rr['Mion_r'] = ((dd['rho'].value*idx_ion).flatten()[idx].cumsum()*dvol*u.mass)[ind]\n",
    "    rr['Mneu_r'] = ((dd['rho'].value*~idx_ion).flatten()[idx].cumsum()*dvol*u.mass)[ind]\n",
    "    rr['Pion_r'] = ((dd['rad_pressure_grad'].value*idx_ion).flatten()[idx].cumsum()*dvol)[ind]\n",
    "    rr['Pneu_r'] = ((dd['rad_pressure_grad'].value*~idx_ion).flatten()[idx].cumsum()*dvol)[ind]\n",
    "    rr['Iph_r'] = (ad['Iph'].flatten()[idx].cumsum()*dvol)[ind]\n",
    "    rr['Rec_r'] = (ad['Rec'].flatten()[idx].cumsum()*dvol)[ind]\n",
    "    \n",
    "    rr['fV_neu'] = idx_ion.sum()/dd['r0'].size\n",
    "    rr['fV_ion'] = 1.0 - rr['fV_neu']\n",
    "    xl=-dd['rho_hi_dot'].value.flatten()[idx]\n",
    "    rr['dot_rho_ev'] = xl[ind]\n",
    "    rr['dot_M_ev'] = (xl.cumsum()*dvol*u.mass/u.time)[ind]\n",
    "    rr['time'] = d.current_time.value\n",
    "    \n",
    "    return dd, rr"
   ]
  },
  {
   "cell_type": "code",
   "execution_count": 4,
   "id": "0dfaac45-0570-4e01-beaf-68b2f781eae9",
   "metadata": {
    "scrolled": true
   },
   "outputs": [
    {
     "name": "stdout",
     "output_type": "stream",
     "text": [
      "0\n",
      "1\n",
      "2\n",
      "3\n",
      "4\n",
      "5\n",
      "6\n",
      "7\n",
      "8\n",
      "9\n",
      "10\n",
      "11\n",
      "12\n",
      "13\n",
      "14\n",
      "15\n",
      "16\n",
      "17\n",
      "18\n",
      "19\n",
      "20\n",
      "21\n",
      "22\n",
      "23\n",
      "24\n",
      "25\n",
      "26\n",
      "27\n",
      "28\n",
      "29\n",
      "30\n",
      "31\n",
      "32\n",
      "33\n",
      "34\n",
      "35\n",
      "36\n",
      "37\n",
      "38\n",
      "39\n",
      "40\n",
      "41\n",
      "42\n",
      "43\n",
      "44\n",
      "45\n",
      "46\n",
      "47\n",
      "48\n",
      "49\n",
      "50\n",
      "51\n",
      "52\n",
      "53\n",
      "54\n",
      "55\n",
      "56\n",
      "57\n",
      "58\n",
      "59\n",
      "60\n",
      "61\n",
      "62\n",
      "63\n",
      "64\n",
      "65\n",
      "66\n",
      "67\n",
      "68\n",
      "69\n",
      "70\n",
      "71\n",
      "72\n",
      "73\n",
      "74\n",
      "75\n",
      "76\n",
      "77\n",
      "78\n",
      "79\n",
      "80\n",
      "81\n",
      "82\n",
      "83\n",
      "84\n",
      "85\n",
      "86\n",
      "87\n",
      "88\n",
      "89\n",
      "90\n",
      "91\n",
      "92\n",
      "93\n",
      "94\n",
      "95\n",
      "96\n",
      "97\n",
      "98\n",
      "99\n",
      "100\n",
      "101\n",
      "102\n",
      "103\n",
      "104\n",
      "105\n",
      "106\n",
      "107\n",
      "108\n",
      "109\n",
      "110\n",
      "111\n",
      "112\n",
      "113\n",
      "114\n",
      "115\n",
      "116\n",
      "117\n",
      "118\n",
      "119\n",
      "120\n",
      "121\n",
      "122\n",
      "123\n",
      "124\n",
      "125\n",
      "126\n",
      "127\n",
      "128\n",
      "129\n",
      "130\n",
      "131\n",
      "132\n",
      "133\n",
      "134\n",
      "135\n",
      "136\n",
      "137\n",
      "138\n",
      "139\n",
      "140\n"
     ]
    }
   ],
   "source": [
    "def find_r(x,y,per):\n",
    "    cut=np.max(y)*per\n",
    "    region=np.where(y>=cut)\n",
    "    return np.min(x[region])\n",
    "datapath_=Path(str(path)+'/evap_dictionary')\n",
    "pathlist_dict=list(datapath_.glob('*t*'))\n",
    "dict_list=[]\n",
    "for i in range(0,len(pathlist_dict),1):\n",
    "    print(i)\n",
    "    ph=str(pathlist_dict[i])\n",
    "    with open(ph, 'rb') as fr:\n",
    "        rr = pickle.load(fr)\n",
    "    dict_list.append(rr)\n",
    "    \n",
    "r_evap={'time':np.array([]),'radius':np.array([])}\n",
    "r_neu={'time':np.array([]),'radius':np.array([])}\n",
    "r_ion={'time':np.array([]),'radius':np.array([])}\n",
    "\n",
    "tlim = s.par['time']['tlim']\n",
    "\n",
    "cut=10\n",
    "for rr in dict_list:\n",
    "    \n",
    "    r_evap['time']=np.hstack([r_evap['time'],rr['time']])\n",
    "    r_evap['radius']=np.hstack([r_evap['radius'],find_r(rr['r'],rr['dot_M_ev'],0.95)])\n",
    "    \n",
    "    r_neu['time']=np.hstack([r_neu['time'],rr['time']])\n",
    "    r_neu['radius']=np.hstack([r_neu['radius'],find_r(rr['r'],rr['Mneu_r'],0.95)])\n",
    "    r_ion['time']=np.hstack([r_ion['time'],rr['time']])\n",
    "    r_ion['radius']=np.hstack([r_ion['radius'],find_r(rr['r'],rr['Mion_r'],0.95)])"
   ]
  },
  {
   "cell_type": "code",
   "execution_count": 5,
   "id": "70363bf3-4999-4a9e-9cd6-f68ba0472237",
   "metadata": {},
   "outputs": [],
   "source": [
    "unit=s.par['units']['mass_cgs']*au.g*(s.par['units']['length_cgs']/s.par['units']['time_cgs']*au.cm/au.s)**2/s.par['units']['time_cgs']/au.s\n",
    "L=s.par['problem']['Qi']*s.par['photchem']['hnu[0]']*au.eV/au.s\n",
    "t1=QTable.read(str(path)+'/outflow_hst',format='latex')\n",
    "\n",
    "f_esc=(t1['radiation_Energy_total']*(s.u.energy/s.u.time)).to(au.eV/au.s)/L"
   ]
  },
  {
   "cell_type": "code",
   "execution_count": 6,
   "id": "76e45554-dd64-4ead-9732-63fcddf0da58",
   "metadata": {},
   "outputs": [
    {
     "data": {
      "text/plain": [
       "[<matplotlib.lines.Line2D at 0x7f2ad2e18c20>]"
      ]
     },
     "execution_count": 6,
     "metadata": {},
     "output_type": "execute_result"
    },
    {
     "data": {
      "image/png": "[encoded data removed]",
      "text/plain": [
       "<Figure size 640x480 with 1 Axes>"
      ]
     },
     "metadata": {},
     "output_type": "display_data"
    }
   ],
   "source": [
    "for i in range(0,len(dict_list),1):\n",
    "    plt.plot(dict_list[i]['time'],(dict_list[i]['Rec_r'][-1]),'bo',ms=1)\n",
    "    plt.plot(dict_list[i]['time'],(dict_list[i]['Iph_r'][-1]),'ro',ms=1)\n",
    "plt.plot(t1['time_total'],(1-f_esc)*1e+49*s.par['units']['time_cgs'])"
   ]
  },
  {
   "cell_type": "code",
   "execution_count": 7,
   "id": "49ffa988-f0d4-430e-95e2-bf4ad00106f8",
   "metadata": {},
   "outputs": [
    {
     "data": {
      "image/png": "[encoded data removed]",
      "text/plain": [
       "<Figure size 640x480 with 1 Axes>"
      ]
     },
     "metadata": {},
     "output_type": "display_data"
    }
   ],
   "source": [
    "for i in range(0,len(dict_list),20):\n",
    "    evap=(dict_list[i]['Iph_r']-dict_list[i]['Rec_r'])\n",
    "    plt.plot(dict_list[i]['r'],evap)"
   ]
  },
  {
   "cell_type": "code",
   "execution_count": 16,
   "id": "06dd98f9-3ce3-46e6-8e4e-49ca911f65c9",
   "metadata": {},
   "outputs": [],
   "source": [
    "ds=s.load_hdf5(30,load_method='yt')"
   ]
  },
  {
   "cell_type": "code",
   "execution_count": 17,
   "id": "061b478e-43de-49e9-8676-7f3b4f236064",
   "metadata": {},
   "outputs": [],
   "source": [
    "energy_density = s.u.energy_density.cgs.value\n",
    "mean_mass_per_hydrogen = yu.mass_hydrogen_cgs*s.u.muH\n",
    "sig_pi_H0=s.par['photchem']['sigma_pi_HI[0]']*yu.cm**2\n",
    "c=2.9979246*10**10*yu.cm/yu.s\n",
    "hnu=s.par['photchem']['hnu[0]']*yu.eV\n",
    "def alphaB(Tgas):\n",
    "    return (2.59e-13*(Tgas*1e-4)**-0.7)*yu.cm**3/yu.s"
   ]
  },
  {
   "cell_type": "code",
   "execution_count": 18,
   "id": "4d5bab99-471d-4f89-bdf9-ab915c74c4d5",
   "metadata": {},
   "outputs": [],
   "source": [
    "def _Erad_LyC(field, data):\n",
    "    return data['Er_rayt0']*energy_density*yu.erg/yu.cm**3\n",
    "def _Iph(field,data):\n",
    "    return (data['athena_pp','r0']*data['gas','density']/mean_mass_per_hydrogen)*sig_pi_H0*c*data['athena_pp','Erad_LyC']/hnu\n",
    "def _Rec(field,data):\n",
    "    return ((1-data['athena_pp','r0'])*data['gas','density']/mean_mass_per_hydrogen)**2*alphaB(data['temperature'].value)"
   ]
  },
  {
   "cell_type": "code",
   "execution_count": 19,
   "id": "d152b8e6-fdef-4318-b6d8-44064469d07c",
   "metadata": {},
   "outputs": [],
   "source": [
    "ds.add_field(('athena_pp', 'Erad_LyC'), function=_Erad_LyC,units=\"erg/cm**3\",\n",
    "                take_log=True, sampling_type='cell',\n",
    "                display_name=r'$\\mathcal{E}_{\\rm LyC}\\;[{\\rm erg}\\,{\\rm cm}^{-3}]$')\n",
    "ds.add_field(('athena_pp', 'Iph'), function=_Iph, units='code_length**(-3)*code_time**(-1)',\n",
    "                take_log=True, sampling_type='cell',\n",
    "                display_name=r'$I_{ph}$')\n",
    "ds.add_field(('athena_pp', 'Rec'), function=_Rec, units='code_length**(-3)*code_time**(-1)',\n",
    "                take_log=True, sampling_type='cell',\n",
    "                display_name=r'$Rec$')"
   ]
  },
  {
   "cell_type": "code",
   "execution_count": 20,
   "id": "318f5efc-96b9-4f0a-851d-9e66d0585900",
   "metadata": {},
   "outputs": [],
   "source": [
    "ad=ds.all_data()"
   ]
  },
  {
   "cell_type": "code",
   "execution_count": 21,
   "id": "357f2b6e-4661-401a-88d4-7a49acdf6a96",
   "metadata": {},
   "outputs": [
    {
     "data": {
      "text/plain": [
       "(unyt_quantity(3.13712836e+62, '1/code_time'),\n",
       " unyt_quantity(2.68941713e+62, '1/code_time'))"
      ]
     },
     "execution_count": 21,
     "metadata": {},
     "output_type": "execute_result"
    }
   ],
   "source": [
    "np.sum(ad['Rec']*ad[('gas','cell_volume')]),np.sum(ad['Iph']*ad[('gas','cell_volume')])"
   ]
  }
 ],
 "metadata": {
  "kernelspec": {
   "display_name": "Python 3 (ipykernel)",
   "language": "python",
   "name": "python3"
  },
  "language_info": {
   "codemirror_mode": {
    "name": "ipython",
    "version": 3
   },
   "file_extension": ".py",
   "mimetype": "text/x-python",
   "name": "python",
   "nbconvert_exporter": "python",
   "pygments_lexer": "ipython3",
   "version": "3.12.2"
  }
 },
 "nbformat": 4,
 "nbformat_minor": 5
}
